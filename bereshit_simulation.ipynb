{
  "nbformat": 4,
  "nbformat_minor": 0,
  "metadata": {
    "colab": {
      "name": "bereshit_simulation.ipynb",
      "version": "0.3.2",
      "provenance": [],
      "collapsed_sections": [],
      "include_colab_link": true
    },
    "kernelspec": {
      "name": "python3",
      "display_name": "Python 3"
    }
  },
  "cells": [
    {
      "cell_type": "markdown",
      "metadata": {
        "id": "view-in-github",
        "colab_type": "text"
      },
      "source": [
        "<a href=\"https://colab.research.google.com/github/MatufA/bereshit-simulation/blob/master/bereshit_simulation.ipynb\" target=\"_parent\"><img src=\"https://colab.research.google.com/assets/colab-badge.svg\" alt=\"Open In Colab\"/></a>"
      ]
    },
    {
      "cell_type": "markdown",
      "metadata": {
        "id": "cvOKriOrjNvX",
        "colab_type": "text"
      },
      "source": [
        "# Bereshit space craft - Simulation\n",
        "a basic flight controller of the Bereshit space craft."
      ]
    },
    {
      "cell_type": "code",
      "metadata": {
        "id": "z5n6MiEcri7R",
        "colab_type": "code",
        "colab": {}
      },
      "source": [
        "from math import radians, sin, cos"
      ],
      "execution_count": 0,
      "outputs": []
    },
    {
      "cell_type": "code",
      "metadata": {
        "id": "hqqHng6Bjdt_",
        "colab_type": "code",
        "colab": {}
      },
      "source": [
        "class Moon:\n",
        "  # from: https://he.wikipedia.org/wiki/%D7%94%D7%99%D7%A8%D7%97\n",
        "  RADIUS = 3475*1000  # meters\n",
        "  ACC = 1.622        # m/s^2\n",
        "  EQ_SPEED = 1700    # m/s\n",
        "  \n",
        "  @staticmethod\n",
        "  def get_acc(speed):\n",
        "    num = abs(speed) / Moon.EQ_SPEED\n",
        "    return (1 - num) * Moon.ACC"
      ],
      "execution_count": 0,
      "outputs": []
    },
    {
      "cell_type": "code",
      "metadata": {
        "id": "KgIhVRmmkmxc",
        "colab_type": "code",
        "colab": {}
      },
      "source": [
        "class Bereshit:\n",
        "  WEIGHT_EMP = 165                        # kg.\n",
        "  WEIGHT_FULE = 420                       # kg.\n",
        "  WEIGHT_FULL = WEIGHT_EMP + WEIGHT_FULE  # kg.\n",
        "  \n",
        "  MAIN_ENG_F = 430                        # N.\n",
        "  SECOND_ENG_F = 25                       # N.\n",
        "  MAIN_BURN = 0.15                        # liter per sec, 12 liter per m.\n",
        "  SECOND_BURN = 0.009                     # liter per sec 0.6 liter per m.\n",
        "  ALL_BURN = MAIN_BURN + 8 * SECOND_BURN  # main engin and all seconds engins in work.\n",
        "  \n",
        "  @staticmethod\n",
        "  def acc(weight, main, seconds):\n",
        "    total = Bereshit.MAIN_ENG_F if main else 0\n",
        "    total += seconds * Bereshit.SECOND_ENG_F\n",
        "    return total / weight\n",
        "  \n",
        "  @staticmethod\n",
        "  def acc_max(weight):\n",
        "    return Bereshit.acc(weight, True, 8)\n",
        "  \n",
        "  def __init__(self, vs, hs, dist, ang, alt):\n",
        "    self.vs = vs\n",
        "    self.hs = hs\n",
        "    self.dist = dist\n",
        "    self.ang = ang    # zero is vertical (as in landing).\n",
        "    self.alt = alt\n",
        "    self.dt = 1       # sec.\n",
        "    self.acc=0        # Acceleration rate (m/s^2).\n",
        "    self.fuel = 121\n",
        "    self.weight = Bereshit.WEIGHT_EMP + self.fuel\n",
        "    self.NN = 0.7     # rate[0,1]\n",
        "  \n",
        "  def land(self):\n",
        "    # over 2 km above the ground.\n",
        "    if self.alt > 2000:\n",
        "      # maintain a vertical speed of [20-25] m/s\n",
        "      self.vs += 0.002 * self.dt if self.vs > 25 else 0\n",
        "      self.vs -= 0.002 * self.dt if self.vs < 20 else 0\n",
        "\n",
        "    else:\n",
        "      # lower than 2 km - horizontal speed should be close to zero.\n",
        "      self.ang -= 3 if self.ang > 3 else self.ang\n",
        "      self.NN = 0.6  # brake slowly.\n",
        "      self.hs = 0 if self.hs < 2 else self.hs\n",
        "      \n",
        "      if self.alt < 125:\n",
        "        # very close to thr ground.\n",
        "        self.NN = 0.7 if self.vs < 5 else 1 \n",
        "        self.acc = 0 if self.vs < 5 else self.acc\n",
        "\n",
        "    self.NN = .4 if self.alt < 5 else self.NN\n",
        "\n",
        "    ang_rad = radians(self.ang) * self.acc\n",
        "    h_acc = sin(ang_rad) * self.acc\n",
        "    v_acc = cos(ang_rad) * self.acc\n",
        "    moon_acc = Moon.get_acc(self.hs)\n",
        "\n",
        "    dw = self.dt * Bereshit.ALL_BURN * self.NN\n",
        "    if self.fuel:\n",
        "      self.fuel -= dw\n",
        "      self.weight = Bereshit.WEIGHT_EMP + self.fuel\n",
        "      self.acc = self.NN * Bereshit.acc_max(self.weight)\n",
        "\n",
        "    else:\n",
        "      self.acc = 0\n",
        "\n",
        "    v_acc -= moon_acc\n",
        "    self.hs -= h_acc * self.dt if self.hs > 0 else 0\n",
        "    self.dist -= self.hs * self.dt\n",
        "    self.vs -= v_acc * self.dt\n",
        "    self.alt -= self.dt * self.vs\n",
        "      \n",
        "  def __str__(self):\n",
        "    return \"{vs:.3f}, {hs:.3f}, {dist:.3f}, {alt:.3f}, {ang:.3f}, {weight:.3f}, {acc:.3f}, {fuel:.3f}\".format(\n",
        "        vs=self.vs, \n",
        "        hs=self.hs, \n",
        "        dist=self.dist, \n",
        "        alt=self.alt, \n",
        "        ang=self.ang, \n",
        "        weight=self.weight, \n",
        "        acc=self.acc,\n",
        "        fuel=self.fuel)"
      ],
      "execution_count": 0,
      "outputs": []
    },
    {
      "cell_type": "code",
      "metadata": {
        "id": "Z5ds42ZMmlbt",
        "colab_type": "code",
        "colab": {}
      },
      "source": [
        "class Simulator:\n",
        "  def __init__(self, dt):\n",
        "    self.time = 0\n",
        "    self.dt = dt\n",
        "\n",
        "  def run(self, vs, hs, dist, ang, alt):\n",
        "    bereshit = Bereshit(vs, hs, dist, ang, alt)\n",
        "    print('time, vert_s, horiz_s, distance, altitude, angle, weight, acceleration, fuel')\n",
        "    while bereshit.alt > 0:\n",
        "      info = '{time:03d}, {bereshit}'.format(time=self.time, bereshit=bereshit)\n",
        "      print(info) if self.time % 10 ==0 or bereshit.alt < 100 else None\n",
        "      bereshit.land()\n",
        "      self.time += self.dt\n",
        "    info = '{time:03d}, {bereshit}'.format(time=self.time, bereshit=bereshit)\n",
        "    print(info)"
      ],
      "execution_count": 0,
      "outputs": []
    },
    {
      "cell_type": "code",
      "metadata": {
        "id": "JJ3O9-M98xu0",
        "colab_type": "code",
        "colab": {
          "base_uri": "https://localhost:8080/",
          "height": 366
        },
        "outputId": "8e857092-f4bb-467b-e514-edf3b49a683e"
      },
      "source": [
        "def main():\n",
        "  simulator = Simulator(1)\n",
        "  simulator.run(vs=24.8, hs=932, dist=181*1000, ang=58.3, alt=13748)\n",
        "\n",
        "main()"
      ],
      "execution_count": 19,
      "outputs": [
        {
          "output_type": "stream",
          "text": [
            "time, vert_s, horiz_s, distance, altitude, angle, weight, acceleration, fuel\n",
            "000, 24.800, 932.000, 181000.000, 13748.000, 58.300, 286.000, 0.000, 121.000\n",
            "010, 32.233, 918.085, 171749.527, 13459.339, 58.300, 284.446, 1.550, 119.446\n",
            "020, 39.946, 902.543, 162654.088, 13094.823, 58.300, 282.892, 1.559, 117.892\n",
            "030, 47.944, 886.919, 153714.520, 12651.613, 58.300, 281.338, 1.568, 116.338\n",
            "040, 56.232, 871.211, 144931.657, 12126.832, 58.300, 279.784, 1.576, 114.784\n",
            "050, 64.813, 855.420, 136306.329, 11517.563, 58.300, 278.230, 1.585, 113.230\n",
            "060, 73.691, 839.547, 127839.363, 10820.852, 58.300, 276.676, 1.594, 111.676\n",
            "070, 82.870, 823.592, 119531.581, 10033.705, 58.300, 275.122, 1.603, 110.122\n",
            "080, 92.355, 807.555, 111383.800, 9153.087, 58.300, 273.568, 1.612, 108.568\n",
            "090, 102.149, 791.437, 103396.833, 8175.924, 58.300, 272.014, 1.621, 107.014\n",
            "100, 112.257, 775.239, 95571.486, 7099.098, 58.300, 270.460, 1.631, 105.460\n",
            "110, 122.683, 758.961, 87908.558, 5919.450, 58.300, 268.906, 1.640, 103.906\n",
            "120, 133.430, 742.605, 80408.841, 4633.778, 58.300, 267.352, 1.650, 102.352\n",
            "130, 144.505, 726.170, 73073.120, 3238.837, 58.300, 265.798, 1.659, 100.798\n",
            "140, 155.763, 709.646, 65902.184, 1731.485, 55.300, 264.266, 1.430, 99.266\n",
            "150, 157.349, 698.088, 58874.160, 158.017, 25.300, 262.934, 1.438, 97.934\n",
            "151, 157.086, 697.325, 58176.835, 0.930, 22.300, 262.801, 1.438, 97.801\n",
            "152, 156.770, 696.655, 57480.180, -155.840, 19.300, 262.712, 0.959, 97.712\n"
          ],
          "name": "stdout"
        }
      ]
    }
  ]
}